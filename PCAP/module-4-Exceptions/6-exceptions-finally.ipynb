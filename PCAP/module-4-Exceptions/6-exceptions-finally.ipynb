{
 "cells": [
  {
   "cell_type": "code",
   "id": "794f9c0d",
   "metadata": {
    "ExecuteTime": {
     "end_time": "2025-07-25T09:28:08.908596Z",
     "start_time": "2025-07-25T09:28:08.900737Z"
    }
   },
   "source": [
    "def get_inverse(x):\n",
    "    try:\n",
    "        return 1 / x\n",
    "    except ZeroDivisionError:\n",
    "        return None\n",
    "    finally:\n",
    "        print('I am always printed!')"
   ],
   "outputs": [],
   "execution_count": 4
  },
  {
   "cell_type": "code",
   "id": "a02d1fc0",
   "metadata": {
    "ExecuteTime": {
     "end_time": "2025-07-25T09:28:11.892115Z",
     "start_time": "2025-07-25T09:28:11.885637Z"
    }
   },
   "source": [
    "print(get_inverse(5))"
   ],
   "outputs": [
    {
     "name": "stdout",
     "output_type": "stream",
     "text": [
      "I am always printed!\n",
      "0.2\n"
     ]
    }
   ],
   "execution_count": 5
  },
  {
   "cell_type": "code",
   "id": "1edc83bb",
   "metadata": {
    "ExecuteTime": {
     "end_time": "2025-07-25T09:28:13.332366Z",
     "start_time": "2025-07-25T09:28:13.323369Z"
    }
   },
   "source": [
    "print(get_inverse(0))"
   ],
   "outputs": [
    {
     "name": "stdout",
     "output_type": "stream",
     "text": [
      "I am always printed!\n",
      "None\n"
     ]
    }
   ],
   "execution_count": 6
  }
 ],
 "metadata": {
  "kernelspec": {
   "display_name": "Python 3 (ipykernel)",
   "language": "python",
   "name": "python3"
  },
  "language_info": {
   "codemirror_mode": {
    "name": "ipython",
    "version": 3
   },
   "file_extension": ".py",
   "mimetype": "text/x-python",
   "name": "python",
   "nbconvert_exporter": "python",
   "pygments_lexer": "ipython3",
   "version": "3.9.7"
  }
 },
 "nbformat": 4,
 "nbformat_minor": 5
}
