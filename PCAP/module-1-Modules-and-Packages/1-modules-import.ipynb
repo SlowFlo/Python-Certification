{
 "cells": [
  {
   "cell_type": "code",
   "id": "initial_id",
   "metadata": {
    "collapsed": true,
    "ExecuteTime": {
     "end_time": "2025-07-11T23:16:39.030137Z",
     "start_time": "2025-07-11T23:16:39.025064Z"
    }
   },
   "source": "import sys",
   "outputs": [],
   "execution_count": 1
  },
  {
   "metadata": {
    "ExecuteTime": {
     "end_time": "2025-07-11T23:17:28.884011Z",
     "start_time": "2025-07-11T23:17:28.879578Z"
    }
   },
   "cell_type": "code",
   "source": [
    "import sys\n",
    "import math"
   ],
   "id": "456f0dc8fb1b8b6d",
   "outputs": [],
   "execution_count": 2
  },
  {
   "metadata": {
    "ExecuteTime": {
     "end_time": "2025-07-11T23:17:37.289466Z",
     "start_time": "2025-07-11T23:17:37.285589Z"
    }
   },
   "cell_type": "code",
   "source": "import sys, math",
   "id": "35fdc6df66f4554f",
   "outputs": [],
   "execution_count": 3
  },
  {
   "metadata": {
    "ExecuteTime": {
     "end_time": "2025-07-11T23:19:00.901703Z",
     "start_time": "2025-07-11T23:19:00.896257Z"
    }
   },
   "cell_type": "code",
   "source": [
    "import sys\n",
    "\n",
    "for name in dir(sys):\n",
    "    print(name, end=\"\\t\")"
   ],
   "id": "414efefeefa358b9",
   "outputs": [
    {
     "name": "stdout",
     "output_type": "stream",
     "text": [
      "__breakpointhook__\t__displayhook__\t__doc__\t__excepthook__\t__interactivehook__\t__loader__\t__name__\t__package__\t__spec__\t__stderr__\t__stdin__\t__stdout__\t__unraisablehook__\t_base_executable\t_clear_type_cache\t_current_exceptions\t_current_frames\t_debugmallocstats\t_enablelegacywindowsfsencoding\t_framework\t_getframe\t_getframemodulename\t_git\t_home\t_setprofileallthreads\t_settraceallthreads\t_stdlib_dir\t_vpath\t_xoptions\tactivate_stack_trampoline\taddaudithook\tapi_version\targv\taudit\tbase_exec_prefix\tbase_prefix\tbreakpointhook\tbuiltin_module_names\tbyteorder\tcall_tracing\tcopyright\tdeactivate_stack_trampoline\tdisplayhook\tdllhandle\tdont_write_bytecode\texc_info\texcepthook\texception\texec_prefix\texecutable\texit\tflags\tfloat_info\tfloat_repr_style\tget_asyncgen_hooks\tget_coroutine_origin_tracking_depth\tget_int_max_str_digits\tgetallocatedblocks\tgetdefaultencoding\tgetfilesystemencodeerrors\tgetfilesystemencoding\tgetprofile\tgetrecursionlimit\tgetrefcount\tgetsizeof\tgetswitchinterval\tgettrace\tgetunicodeinternedsize\tgetwindowsversion\thash_info\thexversion\timplementation\tint_info\tintern\tis_finalizing\tis_stack_trampoline_active\tmaxsize\tmaxunicode\tmeta_path\tmodules\tmonitoring\torig_argv\tpath\tpath_hooks\tpath_importer_cache\tplatform\tplatlibdir\tprefix\tps1\tps2\tps3\tpycache_prefix\tset_asyncgen_hooks\tset_coroutine_origin_tracking_depth\tset_int_max_str_digits\tsetprofile\tsetrecursionlimit\tsetswitchinterval\tsettrace\tstderr\tstdin\tstdlib_module_names\tstdout\tthread_info\tunraisablehook\tversion\tversion_info\twarnoptions\twinver\t"
     ]
    }
   ],
   "execution_count": 4
  },
  {
   "metadata": {
    "ExecuteTime": {
     "end_time": "2025-07-11T23:20:04.579179Z",
     "start_time": "2025-07-11T23:20:04.066594Z"
    }
   },
   "cell_type": "code",
   "source": [
    "import sys\n",
    "sys.exit()"
   ],
   "id": "9293299f9c66fbf0",
   "outputs": [
    {
     "ename": "SystemExit",
     "evalue": "",
     "output_type": "error",
     "traceback": [
      "An exception has occurred, use %tb to see the full traceback.\n",
      "\u001B[31mSystemExit\u001B[39m\n"
     ]
    },
    {
     "name": "stderr",
     "output_type": "stream",
     "text": [
      "C:\\Users\\fbaut\\anaconda3\\envs\\Python-Certification\\Lib\\site-packages\\IPython\\core\\interactiveshell.py:3675: UserWarning: To exit: use 'exit', 'quit', or Ctrl-D.\n",
      "  warn(\"To exit: use 'exit', 'quit', or Ctrl-D.\", stacklevel=1)\n"
     ]
    }
   ],
   "execution_count": 5
  },
  {
   "metadata": {
    "ExecuteTime": {
     "end_time": "2025-07-11T23:21:04.819162Z",
     "start_time": "2025-07-11T23:21:04.771224Z"
    }
   },
   "cell_type": "code",
   "source": [
    "import sys\n",
    "\n",
    "sys.exit324()"
   ],
   "id": "e8f1e027b562cec4",
   "outputs": [
    {
     "ename": "AttributeError",
     "evalue": "module 'sys' has no attribute 'exit324'",
     "output_type": "error",
     "traceback": [
      "\u001B[31m---------------------------------------------------------------------------\u001B[39m",
      "\u001B[31mAttributeError\u001B[39m                            Traceback (most recent call last)",
      "\u001B[36mCell\u001B[39m\u001B[36m \u001B[39m\u001B[32mIn[6]\u001B[39m\u001B[32m, line 3\u001B[39m\n\u001B[32m      1\u001B[39m \u001B[38;5;28;01mimport\u001B[39;00m\u001B[38;5;250m \u001B[39m\u001B[34;01msys\u001B[39;00m\n\u001B[32m----> \u001B[39m\u001B[32m3\u001B[39m sys.exit324()\n",
      "\u001B[31mAttributeError\u001B[39m: module 'sys' has no attribute 'exit324'"
     ]
    }
   ],
   "execution_count": 6
  },
  {
   "metadata": {
    "ExecuteTime": {
     "end_time": "2025-07-11T23:22:39.060620Z",
     "start_time": "2025-07-11T23:22:39.036568Z"
    }
   },
   "cell_type": "code",
   "source": [
    "import sys\n",
    "\n",
    "def exit():\n",
    "    print(\"I wanna exit\")\n",
    "\n",
    "exit()\n",
    "sys.exit()"
   ],
   "id": "f0e24115eab0f087",
   "outputs": [
    {
     "name": "stdout",
     "output_type": "stream",
     "text": [
      "I wanna exit\n"
     ]
    },
    {
     "ename": "SystemExit",
     "evalue": "",
     "output_type": "error",
     "traceback": [
      "An exception has occurred, use %tb to see the full traceback.\n",
      "\u001B[31mSystemExit\u001B[39m\n"
     ]
    }
   ],
   "execution_count": 7
  },
  {
   "metadata": {
    "ExecuteTime": {
     "end_time": "2025-07-11T23:24:31.171117Z",
     "start_time": "2025-07-11T23:24:31.152107Z"
    }
   },
   "cell_type": "code",
   "source": [
    "from sys import exit\n",
    "\n",
    "exit()"
   ],
   "id": "30f2b080611c28cd",
   "outputs": [
    {
     "ename": "SystemExit",
     "evalue": "",
     "output_type": "error",
     "traceback": [
      "An exception has occurred, use %tb to see the full traceback.\n",
      "\u001B[31mSystemExit\u001B[39m\n"
     ]
    }
   ],
   "execution_count": 8
  },
  {
   "metadata": {
    "ExecuteTime": {
     "end_time": "2025-07-11T23:25:29.077587Z",
     "start_time": "2025-07-11T23:25:29.072338Z"
    }
   },
   "cell_type": "code",
   "source": [
    "from sys import exit\n",
    "\n",
    "def exit():\n",
    "    print(\"I wanna exit\")\n",
    "\n",
    "exit()"
   ],
   "id": "bf496fdde69c6f87",
   "outputs": [
    {
     "name": "stdout",
     "output_type": "stream",
     "text": [
      "I wanna exit\n"
     ]
    }
   ],
   "execution_count": 9
  },
  {
   "metadata": {
    "ExecuteTime": {
     "end_time": "2025-07-11T23:26:08.115946Z",
     "start_time": "2025-07-11T23:26:08.105320Z"
    }
   },
   "cell_type": "code",
   "source": "from sys import *",
   "id": "aa2f2767b646ff9a",
   "outputs": [],
   "execution_count": 10
  },
  {
   "metadata": {
    "ExecuteTime": {
     "end_time": "2025-07-11T23:52:30.902537Z",
     "start_time": "2025-07-11T23:52:30.870420Z"
    }
   },
   "cell_type": "code",
   "source": [
    "import sys # you need to add sys.\n",
    "from sys import *"
   ],
   "id": "dfa510a450784152",
   "outputs": [],
   "execution_count": 11
  },
  {
   "metadata": {
    "ExecuteTime": {
     "end_time": "2025-07-11T23:53:39.456270Z",
     "start_time": "2025-07-11T23:53:39.422823Z"
    }
   },
   "cell_type": "code",
   "source": [
    "import sys as s\n",
    "\n",
    "s.exit()"
   ],
   "id": "f2106ad14d804fe7",
   "outputs": [
    {
     "ename": "SystemExit",
     "evalue": "",
     "output_type": "error",
     "traceback": [
      "An exception has occurred, use %tb to see the full traceback.\n",
      "\u001B[31mSystemExit\u001B[39m\n"
     ]
    }
   ],
   "execution_count": 13
  },
  {
   "metadata": {
    "ExecuteTime": {
     "end_time": "2025-07-11T23:54:15.446377Z",
     "start_time": "2025-07-11T23:54:15.421109Z"
    }
   },
   "cell_type": "code",
   "source": [
    "from sys import exit as bye_bye\n",
    "\n",
    "bye_bye()"
   ],
   "id": "95ac371038dbac3c",
   "outputs": [
    {
     "ename": "SystemExit",
     "evalue": "",
     "output_type": "error",
     "traceback": [
      "An exception has occurred, use %tb to see the full traceback.\n",
      "\u001B[31mSystemExit\u001B[39m\n"
     ]
    }
   ],
   "execution_count": 14
  },
  {
   "metadata": {},
   "cell_type": "code",
   "outputs": [],
   "execution_count": null,
   "source": "",
   "id": "13723a5af562f2a7"
  }
 ],
 "metadata": {
  "kernelspec": {
   "display_name": "Python 3",
   "language": "python",
   "name": "python3"
  },
  "language_info": {
   "codemirror_mode": {
    "name": "ipython",
    "version": 2
   },
   "file_extension": ".py",
   "mimetype": "text/x-python",
   "name": "python",
   "nbconvert_exporter": "python",
   "pygments_lexer": "ipython2",
   "version": "2.7.6"
  }
 },
 "nbformat": 4,
 "nbformat_minor": 5
}
